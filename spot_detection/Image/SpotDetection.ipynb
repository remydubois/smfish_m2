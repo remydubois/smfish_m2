{
 "cells": [
  {
   "cell_type": "code",
   "execution_count": 1,
   "metadata": {
    "collapsed": false
   },
   "outputs": [],
   "source": [
    "# Tested with Python 3 "
   ]
  },
  {
   "cell_type": "code",
   "execution_count": 2,
   "metadata": {
    "collapsed": false
   },
   "outputs": [],
   "source": [
    "import skimage\n",
    "from skimage  import io, filters, feature, morphology\n",
    "from IPython.display import display\n",
    "import numpy as np\n",
    "import time\n",
    "from os import path \n",
    "import matplotlib.pyplot as plt\n",
    "import matplotlib.patches as patches\n",
    "\n",
    "\n",
    "# Import module with Gaussian fitter\n",
    "import sys\n",
    "sys.path.append('/Volumes/PILON_HD2/fmueller/Documents/Programming/Python/Toolbox/ImageProcessing/Detection')\n",
    "sys.path.append('/Volumes/PILON_HD2/fmueller/Documents/Programming/Python/Projects/FISH_quant/scr')\n",
    "import smFISHanalyzer\n",
    "\n",
    "import importlib\n",
    "\n",
    "%matplotlib inline"
   ]
  },
  {
   "cell_type": "code",
   "execution_count": 4,
   "metadata": {
    "collapsed": false
   },
   "outputs": [
    {
     "name": "stdout",
     "output_type": "stream",
     "text": [
      "## Size of loaded image (Z-Y-X): (76, 736, 850)\n## Filtering image with double Gaussian filter ... "
     ]
    },
    {
     "name": "stderr",
     "output_type": "stream",
     "text": [
      "/Users/remydubois/anaconda3/lib/python3.6/site-packages/skimage/util/dtype.py:118: UserWarning: Possible sign loss when converting negative image of type int64 to positive image of type uint16.\n  .format(dtypeobj_in, dtypeobj_out))\n/Users/remydubois/anaconda3/lib/python3.6/site-packages/skimage/util/dtype.py:171: UserWarning: Downcasting int64 to uint16 without scaling because max value 12955 fits in uint16\n  \"value {} fits in {}\".format(a.dtype, dtype, a.max(), dtype))\n"
     ]
    },
    {
     "name": "stdout",
     "output_type": "stream",
     "text": [
      " done!\n"
     ]
    },
    {
     "name": "stdout",
     "output_type": "stream",
     "text": [
      "Local Maximum detection - number of pre-detections: 25\n"
     ]
    },
    {
     "data": {
      "image/png": "[encoded data removed]",
      "text/plain": [
       "<matplotlib.figure.Figure at 0x1c12e01550>"
      ]
     },
     "metadata": {},
     "output_type": "display_data"
    }
   ],
   "source": [
    "# Reload class\n",
    "importlib.reload(smFISHanalyzer)\n",
    "\n",
    "# Specify class\n",
    "FQ_img = smFISHanalyzer.FQimg()\n",
    "FQ_img.param['filter_name'] = \"2XG\"  # LoG for Laplacian of Gaussian, 2XG for double Gaussian\n",
    "FQ_img.param['filter_LoG_ksize'] = 3\n",
    "FQ_img.param['filter_2XG_bgd'] = [5, 5, 5]\n",
    "FQ_img.param['filter_2XG_spot'] = [.5, .5, 0.5]\n",
    "\n",
    "# Specify file and load it\n",
    "img_file_name_full = '/Users/remydubois/Dropbox/Remy/Python/CodeFragments/TestData/Experiment-453.czi #001 - C=1-1.tif'\n",
    "FQ_img.loadImage3D(img_file_name_full,flag_output = (True,True))\n",
    "\n",
    "# Filter image\n",
    "FQ_img.param['filter_name'] = \"2XG\"\n",
    "FQ_img.filterImage3D(flag_output = (True,False))\n",
    "\n",
    "# Perform detection\n",
    "FQ_img.param['detect_method'] = \"LocMax\"\n",
    "FQ_img.param['detect_int'] = 5000\n",
    "FQ_img.param['detect_mind_dist'] = 10\n",
    "\n",
    "FQ_img.detectSpots3D(flag_output = (True,True))"
   ]
  },
  {
   "cell_type": "code",
   "execution_count": 6,
   "metadata": {
    "collapsed": false
   },
   "outputs": [
    {
     "ename": "NameError",
     "evalue": "name 'gaussFit' is not defined",
     "traceback": [
      "\u001b[0;31m---------------------------------------------------------------------------\u001b[0m",
      "\u001b[0;31mNameError\u001b[0m                                 Traceback (most recent call last)",
      "\u001b[0;32m<ipython-input-6-4fd20c60ebc7>\u001b[0m in \u001b[0;36m<module>\u001b[0;34m()\u001b[0m\n\u001b[1;32m      3\u001b[0m \u001b[0mFQ_img\u001b[0m\u001b[0;34m.\u001b[0m\u001b[0mparam\u001b[0m\u001b[0;34m[\u001b[0m\u001b[0;34m'fit_crop'\u001b[0m\u001b[0;34m]\u001b[0m \u001b[0;34m=\u001b[0m \u001b[0;34m[\u001b[0m\u001b[0;36m3\u001b[0m\u001b[0;34m,\u001b[0m\u001b[0;36m2\u001b[0m\u001b[0;34m,\u001b[0m\u001b[0;36m2\u001b[0m\u001b[0;34m]\u001b[0m\u001b[0;34m\u001b[0m\u001b[0m\n\u001b[1;32m      4\u001b[0m \u001b[0;34m\u001b[0m\u001b[0m\n\u001b[0;32m----> 5\u001b[0;31m \u001b[0mFQ_img\u001b[0m\u001b[0;34m.\u001b[0m\u001b[0mfitSpots3D\u001b[0m\u001b[0;34m(\u001b[0m\u001b[0mflag_output\u001b[0m \u001b[0;34m=\u001b[0m \u001b[0;34m(\u001b[0m\u001b[0;32mTrue\u001b[0m\u001b[0;34m,\u001b[0m\u001b[0;32mTrue\u001b[0m\u001b[0;34m)\u001b[0m\u001b[0;34m)\u001b[0m\u001b[0;34m\u001b[0m\u001b[0m\n\u001b[0m",
      "\u001b[0;32m~/Documents/rd_repos/CBIO/spot_detection/smFISHanalyzer.py\u001b[0m in \u001b[0;36mfitSpots3D\u001b[0;34m(self, flag_output)\u001b[0m\n\u001b[1;32m    190\u001b[0m     \u001b[0;32mdef\u001b[0m \u001b[0mfitSpots3D\u001b[0m\u001b[0;34m(\u001b[0m\u001b[0mself\u001b[0m\u001b[0;34m,\u001b[0m \u001b[0mflag_output\u001b[0m\u001b[0;34m=\u001b[0m\u001b[0;34m(\u001b[0m\u001b[0;32mFalse\u001b[0m\u001b[0;34m,\u001b[0m \u001b[0;32mFalse\u001b[0m\u001b[0;34m)\u001b[0m\u001b[0;34m)\u001b[0m\u001b[0;34m:\u001b[0m\u001b[0;34m\u001b[0m\u001b[0m\n\u001b[1;32m    191\u001b[0m \u001b[0;34m\u001b[0m\u001b[0m\n\u001b[0;32m--> 192\u001b[0;31m         self.fit_result, self.img_crop_fit = gaussFit.fitSymmetricGaussian3Dbatch(\n\u001b[0m\u001b[1;32m    193\u001b[0m             self.img_raw, self.detect_pos, self.param['fit_crop'], self.param['fit_sigma_init'])\n",
      "\u001b[0;31mNameError\u001b[0m: name 'gaussFit' is not defined"
     ],
     "output_type": "error"
    }
   ],
   "source": [
    "# Fit all predetected positions\n",
    "FQ_img.param['fit_sigma_init'] = [1,1]\n",
    "FQ_img.param['fit_crop'] = [3,2,2]\n",
    "\n",
    "FQ_img.fitSpots3D(flag_output = (True,True))"
   ]
  },
  {
   "cell_type": "code",
   "execution_count": null,
   "metadata": {
    "collapsed": true
   },
   "outputs": [],
   "source": []
  },
  {
   "cell_type": "code",
   "execution_count": null,
   "metadata": {
    "collapsed": false
   },
   "outputs": [],
   "source": [
    "# Perform filtering\n",
    "start_time = time.time()\n",
    "\n",
    "if filter_name == \"LoG\":\n",
    "    print('== Filtering image with LoG filter')\n",
    "    img_beads_filt = filters.laplace(img_beads_raw,ksize=LoG_ksize)\n",
    "    img_beads_filt = skimage.img_as_uint(img_beads_filt)\n",
    "   \n",
    "elif filter_name == \"2XG\":\n",
    "    print('== Filtering image with double Gaussian filter')\n",
    "    img_bgd = filters.gaussian(img_beads_raw, filter_2XG_bgd)\n",
    "    img_beads_filt = filters.gaussian(img_beads_raw-img_bgd,filter_2XG_spot)\n",
    "    img_beads_filt = skimage.img_as_uint(img_beads_filt.astype('int'))  \n",
    "    \n",
    "# Perform MIPS\n",
    "img_beads_filt_MIP = (np.amax(img_beads_filt, axis=0))\n",
    "\n",
    "# Show filtering time\n",
    "print(\"Done after: {:.1f} sec\".format(time.time() - start_time))"
   ]
  },
  {
   "cell_type": "code",
   "execution_count": null,
   "metadata": {
    "collapsed": false
   },
   "outputs": [],
   "source": [
    "# Show projections\n",
    "if flag_plot== True:\n",
    "    fig, (ax1, ax2) = plt.subplots(1,2)\n",
    "    ax1.imshow(img_beads_raw_MIP,cmap='magma')\n",
    "    ax2.imshow(img_beads_filt_MIP,cmap='magma')"
   ]
  },
  {
   "cell_type": "code",
   "execution_count": null,
   "metadata": {
    "collapsed": false
   },
   "outputs": [],
   "source": [
    "# Save filtered image\n",
    "flag_save = True\n",
    "if flag_save == True:\n",
    "    \n",
    "    # Get file-name\n",
    "    file_name_save = path.join(img_path_name, base_filename + \"_filt\" + ext)\n",
    "   \n",
    "    # Save renormalized image\n",
    "    io.imsave(file_name_save,img_beads_filt)\n",
    "    print(\"Filtering image save as\")\n",
    "    print( file_name_save)"
   ]
  },
  {
   "cell_type": "code",
   "execution_count": null,
   "metadata": {
    "collapsed": false
   },
   "outputs": [],
   "source": [
    "flag_save = False\n",
    "\n",
    "# Perform detection with local maximum - result is np array\n",
    "pos_detect = (skimage.feature.peak_local_max(img_beads_filt, min_distance=10, threshold_abs=5000, threshold_rel=None))\n",
    "Ndet, dum = pos_detect.shape\n",
    "display(\"Local Max - number of pre-detections: {}\".format(Ndet))\n",
    "\n",
    "# Get coordonates of pre-detected positions\n",
    "pos_detect_z =  np.ndarray.tolist(pos_detect[:,0])\n",
    "pos_detect_x =  np.ndarray.tolist(pos_detect[:,2])\n",
    "pos_detect_y =  np.ndarray.tolist(pos_detect[:,1])\n",
    "\n",
    "int_predetect = img_beads_filt[pos_detect_z,pos_detect_y,pos_detect_x];\n",
    "\n",
    "# Create figure and axes\n",
    "fig_detect,(ax1, ax2) = plt.subplots(1,2) \n",
    "\n",
    "plt.subplot(121)\n",
    "plt.imshow(img_beads_filt_MIP,cmap='magma')\n",
    "plt.axis('off')\n",
    "plt.title('Filtered image')\n",
    "\n",
    "ax2=plt.subplot(122)\n",
    "plt.imshow(img_beads_filt_MIP,cmap='magma')\n",
    "plt.axis('off')\n",
    "plt.title('Filtered with detection')\n",
    "\n",
    "# Create circle patches and add them to the image\n",
    "for x,y in zip(pos_detect_x,pos_detect_y):\n",
    "    detect_circ = patches.Circle((x,y),linewidth=0.5,edgecolor='g',facecolor='none')\n",
    "    ax2.add_patch(detect_circ)\n",
    "\n",
    "# Save results of detection \n",
    "if flag_save is True:\n",
    "    file_name_save = path.join(img_path_name, base_filename + \"_detect.png\")\n",
    "    fig_detect.savefig(file_name_save, dpi=900,bbox_inches='tight')"
   ]
  },
  {
   "cell_type": "code",
   "execution_count": null,
   "metadata": {
    "collapsed": true
   },
   "outputs": [],
   "source": [
    "# Plot a fitted position\n",
    "gaussFit.plotGaussian3Dbatchfit(result_all,img_crop_all,4)"
   ]
  },
  {
   "cell_type": "code",
   "execution_count": null,
   "metadata": {
    "collapsed": true
   },
   "outputs": [],
   "source": [
    "# note 1: the with statement gurarntess that the file is properly closed\n",
    "# note 2: the 'b' opens the file in binary rather than in text mode\n",
    "# This is for the first call, for subsequent calls change the 'wb' to 'ab'\n",
    "\n",
    "fname = path.join(img_path_name, base_filename + \"__FIT.txt\")\n",
    "\n",
    "# Write some information about results\n",
    "with open(fname, 'w') as text_file:\n",
    "    print('# File-name\\t{}'.format(img_file_name), file=text_file)\n",
    "\n",
    "# Write results of spot detection    \n",
    "with open(fname,'ab') as f_handle:\n",
    "    header = ('detect_z[pix]\\tdetect_y[pix]\\tdetect_x[pix]\\t'\n",
    "              'fit_z[pix]\\tfit_y[pix]\\t_fit_x[pix]\\t'\n",
    "              'fit_bgd\\tfit_amp\\tfit_z_sub[pix]\\tfit_y_sub[pix]\\t_fit_x_sub[pix]\\tfit_sz\\tfit_sxy')\n",
    "    np.savetxt(f_handle, result_all, fmt='%f', delimiter='\\t', newline='\\n', header=header, footer='', comments='# ')"
   ]
  },
  {
   "cell_type": "code",
   "execution_count": null,
   "metadata": {
    "collapsed": false
   },
   "outputs": [],
   "source": [
    "# FIND pair-wise matches\n",
    "\n",
    "from scipy.spatial.distance import cdist\n",
    "from scipy.optimize import linear_sum_assignment\n",
    "\n",
    "# Get data-sets from pre-detection\n",
    "XA = pos_detect\n",
    "XB = XA.copy()\n",
    "np.random.shuffle(XB)\n",
    "XB = XB + np.random.randint(5, size=XB.shape)-2\n",
    "\n",
    "# Calculate paire-wise distance\n",
    "cost_matrix = cdist(XA,  XB, 'euclidean')\n",
    "\n",
    "# Solve linear assignment problem\n",
    "row_ind, col_ind = linear_sum_assignment(cost_matrix)\n",
    "\n",
    "\n",
    "if flag_print == True:\n",
    "    print('Total cost: {:.2f}'.format(cost_matrix[row_ind, col_ind].sum()))\n",
    "    \n",
    "    for row, column in zip(row_ind,col_ind):\n",
    "         print('({}, {}) -> {:.4f}'.format(row, column, cost_matrix[row,column]))"
   ]
  }
 ],
 "metadata": {
  "kernelspec": {
   "display_name": "Python 3",
   "language": "python",
   "name": "python3"
  },
  "language_info": {
   "codemirror_mode": {
    "name": "ipython",
    "version": 3
   },
   "file_extension": ".py",
   "mimetype": "text/x-python",
   "name": "python",
   "nbconvert_exporter": "python",
   "pygments_lexer": "ipython3",
   "version": "3.6.0"
  }
 },
 "nbformat": 4,
 "nbformat_minor": 2
}
